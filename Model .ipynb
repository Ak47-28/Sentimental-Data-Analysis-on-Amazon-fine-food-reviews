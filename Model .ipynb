{
 "cells": [
  {
   "cell_type": "code",
   "execution_count": 1,
   "id": "5ae90f06",
   "metadata": {},
   "outputs": [],
   "source": [
    "import pandas as pd\n",
    "import numpy as np"
   ]
  },
  {
   "cell_type": "code",
   "execution_count": 2,
   "id": "63ef6d28",
   "metadata": {},
   "outputs": [
    {
     "name": "stderr",
     "output_type": "stream",
     "text": [
      "C:\\Users\\prashanth\\anaconda3\\lib\\site-packages\\IPython\\core\\interactiveshell.py:3444: DtypeWarning: Columns (7) have mixed types.Specify dtype option on import or set low_memory=False.\n",
      "  exec(code_obj, self.user_global_ns, self.user_ns)\n"
     ]
    }
   ],
   "source": [
    "df = pd.read_csv('fullclean.csv')"
   ]
  },
  {
   "cell_type": "code",
   "execution_count": 3,
   "id": "426c18d4",
   "metadata": {},
   "outputs": [
    {
     "data": {
      "text/html": [
       "<div>\n",
       "<style scoped>\n",
       "    .dataframe tbody tr th:only-of-type {\n",
       "        vertical-align: middle;\n",
       "    }\n",
       "\n",
       "    .dataframe tbody tr th {\n",
       "        vertical-align: top;\n",
       "    }\n",
       "\n",
       "    .dataframe thead th {\n",
       "        text-align: right;\n",
       "    }\n",
       "</style>\n",
       "<table border=\"1\" class=\"dataframe\">\n",
       "  <thead>\n",
       "    <tr style=\"text-align: right;\">\n",
       "      <th></th>\n",
       "      <th>Unnamed: 0</th>\n",
       "      <th>ProductId</th>\n",
       "      <th>UserId</th>\n",
       "      <th>ProfileName</th>\n",
       "      <th>HelpfulnessNumerator</th>\n",
       "      <th>HelpfulnessDenominator</th>\n",
       "      <th>Score</th>\n",
       "      <th>Time</th>\n",
       "      <th>ReviewSummary</th>\n",
       "      <th>ReviewText</th>\n",
       "    </tr>\n",
       "  </thead>\n",
       "  <tbody>\n",
       "    <tr>\n",
       "      <th>0</th>\n",
       "      <td>0</td>\n",
       "      <td>B001E4KFG0</td>\n",
       "      <td>A3SGXH7AUHU8GW</td>\n",
       "      <td>delmartian</td>\n",
       "      <td>1</td>\n",
       "      <td>1</td>\n",
       "      <td>5</td>\n",
       "      <td>1303862400</td>\n",
       "      <td>Good Quality Dog Food</td>\n",
       "      <td>I have bought several of the Vitality canned ...</td>\n",
       "    </tr>\n",
       "    <tr>\n",
       "      <th>1</th>\n",
       "      <td>1</td>\n",
       "      <td>B00171APVA</td>\n",
       "      <td>A21BT40VZCCYT4</td>\n",
       "      <td>Carol A. Reed</td>\n",
       "      <td>0</td>\n",
       "      <td>0</td>\n",
       "      <td>5</td>\n",
       "      <td>1351209600</td>\n",
       "      <td>Healthy Dog Food</td>\n",
       "      <td>This is a very healthy dog food. Good for the...</td>\n",
       "    </tr>\n",
       "    <tr>\n",
       "      <th>2</th>\n",
       "      <td>2</td>\n",
       "      <td>B0019CW0HE</td>\n",
       "      <td>A2P6ACFZ8FTNVV</td>\n",
       "      <td>Melissa Benjamin</td>\n",
       "      <td>0</td>\n",
       "      <td>1</td>\n",
       "      <td>1</td>\n",
       "      <td>1331164800</td>\n",
       "      <td>Bad</td>\n",
       "      <td>I fed this to my Golden Retriever and he hate...</td>\n",
       "    </tr>\n",
       "    <tr>\n",
       "      <th>3</th>\n",
       "      <td>3</td>\n",
       "      <td>B006F2NYI2</td>\n",
       "      <td>A132DJVI37RB4X</td>\n",
       "      <td>Scottdrum</td>\n",
       "      <td>2</td>\n",
       "      <td>5</td>\n",
       "      <td>2</td>\n",
       "      <td>1332374400</td>\n",
       "      <td>Not hot, not habanero</td>\n",
       "      <td>I have to admit, I was a sucker for the large...</td>\n",
       "    </tr>\n",
       "    <tr>\n",
       "      <th>4</th>\n",
       "      <td>4</td>\n",
       "      <td>B000P41A28</td>\n",
       "      <td>A82WIMR4RSVLI</td>\n",
       "      <td>Emrose mom</td>\n",
       "      <td>0</td>\n",
       "      <td>1</td>\n",
       "      <td>4</td>\n",
       "      <td>1337472000</td>\n",
       "      <td>The best weve tried so far</td>\n",
       "      <td>We have a 7 week old... He had gas and consti...</td>\n",
       "    </tr>\n",
       "  </tbody>\n",
       "</table>\n",
       "</div>"
      ],
      "text/plain": [
       "   Unnamed: 0    ProductId           UserId        ProfileName  \\\n",
       "0           0   B001E4KFG0   A3SGXH7AUHU8GW         delmartian   \n",
       "1           1   B00171APVA   A21BT40VZCCYT4      Carol A. Reed   \n",
       "2           2   B0019CW0HE   A2P6ACFZ8FTNVV   Melissa Benjamin   \n",
       "3           3   B006F2NYI2   A132DJVI37RB4X          Scottdrum   \n",
       "4           4   B000P41A28    A82WIMR4RSVLI         Emrose mom   \n",
       "\n",
       "   HelpfulnessNumerator  HelpfulnessDenominator  Score        Time  \\\n",
       "0                     1                       1      5  1303862400   \n",
       "1                     0                       0      5  1351209600   \n",
       "2                     0                       1      1  1331164800   \n",
       "3                     2                       5      2  1332374400   \n",
       "4                     0                       1      4  1337472000   \n",
       "\n",
       "                ReviewSummary   \\\n",
       "0        Good Quality Dog Food   \n",
       "1             Healthy Dog Food   \n",
       "2                          Bad   \n",
       "3        Not hot, not habanero   \n",
       "4   The best weve tried so far   \n",
       "\n",
       "                                          ReviewText  \n",
       "0   I have bought several of the Vitality canned ...  \n",
       "1   This is a very healthy dog food. Good for the...  \n",
       "2   I fed this to my Golden Retriever and he hate...  \n",
       "3   I have to admit, I was a sucker for the large...  \n",
       "4   We have a 7 week old... He had gas and consti...  "
      ]
     },
     "execution_count": 3,
     "metadata": {},
     "output_type": "execute_result"
    }
   ],
   "source": [
    "df.head()"
   ]
  },
  {
   "cell_type": "code",
   "execution_count": 4,
   "id": "fa823ba0",
   "metadata": {},
   "outputs": [
    {
     "name": "stdout",
     "output_type": "stream",
     "text": [
      "<class 'pandas.core.frame.DataFrame'>\n",
      "RangeIndex: 568186 entries, 0 to 568185\n",
      "Data columns (total 10 columns):\n",
      " #   Column                  Non-Null Count   Dtype \n",
      "---  ------                  --------------   ----- \n",
      " 0   Unnamed: 0              568186 non-null  int64 \n",
      " 1   ProductId               568186 non-null  object\n",
      " 2   UserId                  568186 non-null  object\n",
      " 3   ProfileName             568186 non-null  object\n",
      " 4   HelpfulnessNumerator    568186 non-null  int64 \n",
      " 5   HelpfulnessDenominator  568186 non-null  int64 \n",
      " 6   Score                   568186 non-null  int64 \n",
      " 7   Time                    568186 non-null  object\n",
      " 8   ReviewSummary           568186 non-null  object\n",
      " 9   ReviewText              568186 non-null  object\n",
      "dtypes: int64(4), object(6)\n",
      "memory usage: 43.3+ MB\n"
     ]
    }
   ],
   "source": [
    "df.info()"
   ]
  },
  {
   "cell_type": "code",
   "execution_count": 5,
   "id": "dd0405f3",
   "metadata": {},
   "outputs": [],
   "source": [
    "# considering 4-5 as positive and 1-2 as negative rating\n",
    "df_temp = df[df.Score != 3]"
   ]
  },
  {
   "cell_type": "code",
   "execution_count": 6,
   "id": "61290a10",
   "metadata": {},
   "outputs": [],
   "source": [
    "df_temp = df_temp[df_temp.Score != 0]"
   ]
  },
  {
   "cell_type": "code",
   "execution_count": 7,
   "id": "487474a2",
   "metadata": {},
   "outputs": [
    {
     "data": {
      "text/html": [
       "<div>\n",
       "<style scoped>\n",
       "    .dataframe tbody tr th:only-of-type {\n",
       "        vertical-align: middle;\n",
       "    }\n",
       "\n",
       "    .dataframe tbody tr th {\n",
       "        vertical-align: top;\n",
       "    }\n",
       "\n",
       "    .dataframe thead th {\n",
       "        text-align: right;\n",
       "    }\n",
       "</style>\n",
       "<table border=\"1\" class=\"dataframe\">\n",
       "  <thead>\n",
       "    <tr style=\"text-align: right;\">\n",
       "      <th></th>\n",
       "      <th>Unnamed: 0</th>\n",
       "      <th>ProductId</th>\n",
       "      <th>UserId</th>\n",
       "      <th>ProfileName</th>\n",
       "      <th>HelpfulnessNumerator</th>\n",
       "      <th>HelpfulnessDenominator</th>\n",
       "      <th>Score</th>\n",
       "      <th>Time</th>\n",
       "      <th>ReviewSummary</th>\n",
       "      <th>ReviewText</th>\n",
       "    </tr>\n",
       "  </thead>\n",
       "  <tbody>\n",
       "    <tr>\n",
       "      <th>0</th>\n",
       "      <td>0</td>\n",
       "      <td>B001E4KFG0</td>\n",
       "      <td>A3SGXH7AUHU8GW</td>\n",
       "      <td>delmartian</td>\n",
       "      <td>1</td>\n",
       "      <td>1</td>\n",
       "      <td>5</td>\n",
       "      <td>1303862400</td>\n",
       "      <td>Good Quality Dog Food</td>\n",
       "      <td>I have bought several of the Vitality canned ...</td>\n",
       "    </tr>\n",
       "    <tr>\n",
       "      <th>1</th>\n",
       "      <td>1</td>\n",
       "      <td>B00171APVA</td>\n",
       "      <td>A21BT40VZCCYT4</td>\n",
       "      <td>Carol A. Reed</td>\n",
       "      <td>0</td>\n",
       "      <td>0</td>\n",
       "      <td>5</td>\n",
       "      <td>1351209600</td>\n",
       "      <td>Healthy Dog Food</td>\n",
       "      <td>This is a very healthy dog food. Good for the...</td>\n",
       "    </tr>\n",
       "    <tr>\n",
       "      <th>2</th>\n",
       "      <td>2</td>\n",
       "      <td>B0019CW0HE</td>\n",
       "      <td>A2P6ACFZ8FTNVV</td>\n",
       "      <td>Melissa Benjamin</td>\n",
       "      <td>0</td>\n",
       "      <td>1</td>\n",
       "      <td>1</td>\n",
       "      <td>1331164800</td>\n",
       "      <td>Bad</td>\n",
       "      <td>I fed this to my Golden Retriever and he hate...</td>\n",
       "    </tr>\n",
       "    <tr>\n",
       "      <th>3</th>\n",
       "      <td>3</td>\n",
       "      <td>B006F2NYI2</td>\n",
       "      <td>A132DJVI37RB4X</td>\n",
       "      <td>Scottdrum</td>\n",
       "      <td>2</td>\n",
       "      <td>5</td>\n",
       "      <td>2</td>\n",
       "      <td>1332374400</td>\n",
       "      <td>Not hot, not habanero</td>\n",
       "      <td>I have to admit, I was a sucker for the large...</td>\n",
       "    </tr>\n",
       "    <tr>\n",
       "      <th>4</th>\n",
       "      <td>4</td>\n",
       "      <td>B000P41A28</td>\n",
       "      <td>A82WIMR4RSVLI</td>\n",
       "      <td>Emrose mom</td>\n",
       "      <td>0</td>\n",
       "      <td>1</td>\n",
       "      <td>4</td>\n",
       "      <td>1337472000</td>\n",
       "      <td>The best weve tried so far</td>\n",
       "      <td>We have a 7 week old... He had gas and consti...</td>\n",
       "    </tr>\n",
       "  </tbody>\n",
       "</table>\n",
       "</div>"
      ],
      "text/plain": [
       "   Unnamed: 0    ProductId           UserId        ProfileName  \\\n",
       "0           0   B001E4KFG0   A3SGXH7AUHU8GW         delmartian   \n",
       "1           1   B00171APVA   A21BT40VZCCYT4      Carol A. Reed   \n",
       "2           2   B0019CW0HE   A2P6ACFZ8FTNVV   Melissa Benjamin   \n",
       "3           3   B006F2NYI2   A132DJVI37RB4X          Scottdrum   \n",
       "4           4   B000P41A28    A82WIMR4RSVLI         Emrose mom   \n",
       "\n",
       "   HelpfulnessNumerator  HelpfulnessDenominator  Score        Time  \\\n",
       "0                     1                       1      5  1303862400   \n",
       "1                     0                       0      5  1351209600   \n",
       "2                     0                       1      1  1331164800   \n",
       "3                     2                       5      2  1332374400   \n",
       "4                     0                       1      4  1337472000   \n",
       "\n",
       "                ReviewSummary   \\\n",
       "0        Good Quality Dog Food   \n",
       "1             Healthy Dog Food   \n",
       "2                          Bad   \n",
       "3        Not hot, not habanero   \n",
       "4   The best weve tried so far   \n",
       "\n",
       "                                          ReviewText  \n",
       "0   I have bought several of the Vitality canned ...  \n",
       "1   This is a very healthy dog food. Good for the...  \n",
       "2   I fed this to my Golden Retriever and he hate...  \n",
       "3   I have to admit, I was a sucker for the large...  \n",
       "4   We have a 7 week old... He had gas and consti...  "
      ]
     },
     "execution_count": 7,
     "metadata": {},
     "output_type": "execute_result"
    }
   ],
   "source": [
    "df_temp.head()"
   ]
  },
  {
   "cell_type": "code",
   "execution_count": 8,
   "id": "5d8a2a75",
   "metadata": {},
   "outputs": [
    {
     "data": {
      "text/plain": [
       "(525375, 10)"
      ]
     },
     "execution_count": 8,
     "metadata": {},
     "output_type": "execute_result"
    }
   ],
   "source": [
    "df_temp.shape"
   ]
  },
  {
   "cell_type": "code",
   "execution_count": 9,
   "id": "d5732824",
   "metadata": {},
   "outputs": [
    {
     "data": {
      "text/plain": [
       "array([5, 1, 2, 4], dtype=int64)"
      ]
     },
     "execution_count": 9,
     "metadata": {},
     "output_type": "execute_result"
    }
   ],
   "source": [
    "df_temp.Score.unique()"
   ]
  },
  {
   "cell_type": "code",
   "execution_count": 10,
   "id": "83ffda4a",
   "metadata": {},
   "outputs": [],
   "source": [
    "df_temp.drop('Unnamed: 0',axis = 1,inplace = True)"
   ]
  },
  {
   "cell_type": "code",
   "execution_count": 11,
   "id": "466d4d1a",
   "metadata": {},
   "outputs": [
    {
     "data": {
      "text/html": [
       "<div>\n",
       "<style scoped>\n",
       "    .dataframe tbody tr th:only-of-type {\n",
       "        vertical-align: middle;\n",
       "    }\n",
       "\n",
       "    .dataframe tbody tr th {\n",
       "        vertical-align: top;\n",
       "    }\n",
       "\n",
       "    .dataframe thead th {\n",
       "        text-align: right;\n",
       "    }\n",
       "</style>\n",
       "<table border=\"1\" class=\"dataframe\">\n",
       "  <thead>\n",
       "    <tr style=\"text-align: right;\">\n",
       "      <th></th>\n",
       "      <th>ProductId</th>\n",
       "      <th>UserId</th>\n",
       "      <th>ProfileName</th>\n",
       "      <th>HelpfulnessNumerator</th>\n",
       "      <th>HelpfulnessDenominator</th>\n",
       "      <th>Score</th>\n",
       "      <th>Time</th>\n",
       "      <th>ReviewSummary</th>\n",
       "      <th>ReviewText</th>\n",
       "    </tr>\n",
       "  </thead>\n",
       "  <tbody>\n",
       "    <tr>\n",
       "      <th>0</th>\n",
       "      <td>B001E4KFG0</td>\n",
       "      <td>A3SGXH7AUHU8GW</td>\n",
       "      <td>delmartian</td>\n",
       "      <td>1</td>\n",
       "      <td>1</td>\n",
       "      <td>5</td>\n",
       "      <td>1303862400</td>\n",
       "      <td>Good Quality Dog Food</td>\n",
       "      <td>I have bought several of the Vitality canned ...</td>\n",
       "    </tr>\n",
       "    <tr>\n",
       "      <th>1</th>\n",
       "      <td>B00171APVA</td>\n",
       "      <td>A21BT40VZCCYT4</td>\n",
       "      <td>Carol A. Reed</td>\n",
       "      <td>0</td>\n",
       "      <td>0</td>\n",
       "      <td>5</td>\n",
       "      <td>1351209600</td>\n",
       "      <td>Healthy Dog Food</td>\n",
       "      <td>This is a very healthy dog food. Good for the...</td>\n",
       "    </tr>\n",
       "    <tr>\n",
       "      <th>2</th>\n",
       "      <td>B0019CW0HE</td>\n",
       "      <td>A2P6ACFZ8FTNVV</td>\n",
       "      <td>Melissa Benjamin</td>\n",
       "      <td>0</td>\n",
       "      <td>1</td>\n",
       "      <td>1</td>\n",
       "      <td>1331164800</td>\n",
       "      <td>Bad</td>\n",
       "      <td>I fed this to my Golden Retriever and he hate...</td>\n",
       "    </tr>\n",
       "    <tr>\n",
       "      <th>3</th>\n",
       "      <td>B006F2NYI2</td>\n",
       "      <td>A132DJVI37RB4X</td>\n",
       "      <td>Scottdrum</td>\n",
       "      <td>2</td>\n",
       "      <td>5</td>\n",
       "      <td>2</td>\n",
       "      <td>1332374400</td>\n",
       "      <td>Not hot, not habanero</td>\n",
       "      <td>I have to admit, I was a sucker for the large...</td>\n",
       "    </tr>\n",
       "    <tr>\n",
       "      <th>4</th>\n",
       "      <td>B000P41A28</td>\n",
       "      <td>A82WIMR4RSVLI</td>\n",
       "      <td>Emrose mom</td>\n",
       "      <td>0</td>\n",
       "      <td>1</td>\n",
       "      <td>4</td>\n",
       "      <td>1337472000</td>\n",
       "      <td>The best weve tried so far</td>\n",
       "      <td>We have a 7 week old... He had gas and consti...</td>\n",
       "    </tr>\n",
       "  </tbody>\n",
       "</table>\n",
       "</div>"
      ],
      "text/plain": [
       "     ProductId           UserId        ProfileName  HelpfulnessNumerator  \\\n",
       "0   B001E4KFG0   A3SGXH7AUHU8GW         delmartian                     1   \n",
       "1   B00171APVA   A21BT40VZCCYT4      Carol A. Reed                     0   \n",
       "2   B0019CW0HE   A2P6ACFZ8FTNVV   Melissa Benjamin                     0   \n",
       "3   B006F2NYI2   A132DJVI37RB4X          Scottdrum                     2   \n",
       "4   B000P41A28    A82WIMR4RSVLI         Emrose mom                     0   \n",
       "\n",
       "   HelpfulnessDenominator  Score        Time               ReviewSummary   \\\n",
       "0                       1      5  1303862400        Good Quality Dog Food   \n",
       "1                       0      5  1351209600             Healthy Dog Food   \n",
       "2                       1      1  1331164800                          Bad   \n",
       "3                       5      2  1332374400        Not hot, not habanero   \n",
       "4                       1      4  1337472000   The best weve tried so far   \n",
       "\n",
       "                                          ReviewText  \n",
       "0   I have bought several of the Vitality canned ...  \n",
       "1   This is a very healthy dog food. Good for the...  \n",
       "2   I fed this to my Golden Retriever and he hate...  \n",
       "3   I have to admit, I was a sucker for the large...  \n",
       "4   We have a 7 week old... He had gas and consti...  "
      ]
     },
     "execution_count": 11,
     "metadata": {},
     "output_type": "execute_result"
    }
   ],
   "source": [
    "df_temp.head()"
   ]
  },
  {
   "cell_type": "code",
   "execution_count": 12,
   "id": "29ad5566",
   "metadata": {},
   "outputs": [],
   "source": [
    "df_temp['Rating'] = df_temp.Score.apply(lambda x :  'Positive'    if x == 5 or x == 4 else 'Negative')"
   ]
  },
  {
   "cell_type": "code",
   "execution_count": 15,
   "id": "84794f85",
   "metadata": {},
   "outputs": [
    {
     "data": {
      "text/html": [
       "<div>\n",
       "<style scoped>\n",
       "    .dataframe tbody tr th:only-of-type {\n",
       "        vertical-align: middle;\n",
       "    }\n",
       "\n",
       "    .dataframe tbody tr th {\n",
       "        vertical-align: top;\n",
       "    }\n",
       "\n",
       "    .dataframe thead th {\n",
       "        text-align: right;\n",
       "    }\n",
       "</style>\n",
       "<table border=\"1\" class=\"dataframe\">\n",
       "  <thead>\n",
       "    <tr style=\"text-align: right;\">\n",
       "      <th></th>\n",
       "      <th>ProductId</th>\n",
       "      <th>UserId</th>\n",
       "      <th>ProfileName</th>\n",
       "      <th>HelpfulnessNumerator</th>\n",
       "      <th>HelpfulnessDenominator</th>\n",
       "      <th>Score</th>\n",
       "      <th>Time</th>\n",
       "      <th>ReviewSummary</th>\n",
       "      <th>ReviewText</th>\n",
       "      <th>Rating</th>\n",
       "    </tr>\n",
       "  </thead>\n",
       "  <tbody>\n",
       "    <tr>\n",
       "      <th>0</th>\n",
       "      <td>B001E4KFG0</td>\n",
       "      <td>A3SGXH7AUHU8GW</td>\n",
       "      <td>delmartian</td>\n",
       "      <td>1</td>\n",
       "      <td>1</td>\n",
       "      <td>5</td>\n",
       "      <td>1303862400</td>\n",
       "      <td>Good Quality Dog Food</td>\n",
       "      <td>I have bought several of the Vitality canned ...</td>\n",
       "      <td>Positive</td>\n",
       "    </tr>\n",
       "    <tr>\n",
       "      <th>1</th>\n",
       "      <td>B00171APVA</td>\n",
       "      <td>A21BT40VZCCYT4</td>\n",
       "      <td>Carol A. Reed</td>\n",
       "      <td>0</td>\n",
       "      <td>0</td>\n",
       "      <td>5</td>\n",
       "      <td>1351209600</td>\n",
       "      <td>Healthy Dog Food</td>\n",
       "      <td>This is a very healthy dog food. Good for the...</td>\n",
       "      <td>Positive</td>\n",
       "    </tr>\n",
       "    <tr>\n",
       "      <th>2</th>\n",
       "      <td>B0019CW0HE</td>\n",
       "      <td>A2P6ACFZ8FTNVV</td>\n",
       "      <td>Melissa Benjamin</td>\n",
       "      <td>0</td>\n",
       "      <td>1</td>\n",
       "      <td>1</td>\n",
       "      <td>1331164800</td>\n",
       "      <td>Bad</td>\n",
       "      <td>I fed this to my Golden Retriever and he hate...</td>\n",
       "      <td>Negative</td>\n",
       "    </tr>\n",
       "    <tr>\n",
       "      <th>3</th>\n",
       "      <td>B006F2NYI2</td>\n",
       "      <td>A132DJVI37RB4X</td>\n",
       "      <td>Scottdrum</td>\n",
       "      <td>2</td>\n",
       "      <td>5</td>\n",
       "      <td>2</td>\n",
       "      <td>1332374400</td>\n",
       "      <td>Not hot, not habanero</td>\n",
       "      <td>I have to admit, I was a sucker for the large...</td>\n",
       "      <td>Negative</td>\n",
       "    </tr>\n",
       "    <tr>\n",
       "      <th>4</th>\n",
       "      <td>B000P41A28</td>\n",
       "      <td>A82WIMR4RSVLI</td>\n",
       "      <td>Emrose mom</td>\n",
       "      <td>0</td>\n",
       "      <td>1</td>\n",
       "      <td>4</td>\n",
       "      <td>1337472000</td>\n",
       "      <td>The best weve tried so far</td>\n",
       "      <td>We have a 7 week old... He had gas and consti...</td>\n",
       "      <td>Positive</td>\n",
       "    </tr>\n",
       "  </tbody>\n",
       "</table>\n",
       "</div>"
      ],
      "text/plain": [
       "     ProductId           UserId        ProfileName  HelpfulnessNumerator  \\\n",
       "0   B001E4KFG0   A3SGXH7AUHU8GW         delmartian                     1   \n",
       "1   B00171APVA   A21BT40VZCCYT4      Carol A. Reed                     0   \n",
       "2   B0019CW0HE   A2P6ACFZ8FTNVV   Melissa Benjamin                     0   \n",
       "3   B006F2NYI2   A132DJVI37RB4X          Scottdrum                     2   \n",
       "4   B000P41A28    A82WIMR4RSVLI         Emrose mom                     0   \n",
       "\n",
       "   HelpfulnessDenominator  Score        Time               ReviewSummary   \\\n",
       "0                       1      5  1303862400        Good Quality Dog Food   \n",
       "1                       0      5  1351209600             Healthy Dog Food   \n",
       "2                       1      1  1331164800                          Bad   \n",
       "3                       5      2  1332374400        Not hot, not habanero   \n",
       "4                       1      4  1337472000   The best weve tried so far   \n",
       "\n",
       "                                          ReviewText    Rating  \n",
       "0   I have bought several of the Vitality canned ...  Positive  \n",
       "1   This is a very healthy dog food. Good for the...  Positive  \n",
       "2   I fed this to my Golden Retriever and he hate...  Negative  \n",
       "3   I have to admit, I was a sucker for the large...  Negative  \n",
       "4   We have a 7 week old... He had gas and consti...  Positive  "
      ]
     },
     "execution_count": 15,
     "metadata": {},
     "output_type": "execute_result"
    }
   ],
   "source": [
    "df_temp.head()"
   ]
  },
  {
   "cell_type": "code",
   "execution_count": 16,
   "id": "5536403e",
   "metadata": {},
   "outputs": [
    {
     "data": {
      "text/plain": [
       "Positive    0.843723\n",
       "Negative    0.156277\n",
       "Name: Rating, dtype: float64"
      ]
     },
     "execution_count": 16,
     "metadata": {},
     "output_type": "execute_result"
    }
   ],
   "source": [
    "df_temp['Rating'].value_counts(normalize=True)"
   ]
  },
  {
   "cell_type": "code",
   "execution_count": 52,
   "id": "455cb3be",
   "metadata": {},
   "outputs": [],
   "source": [
    "X = df_temp[['ReviewText']]"
   ]
  },
  {
   "cell_type": "code",
   "execution_count": 53,
   "id": "fc81ebe9",
   "metadata": {},
   "outputs": [],
   "source": [
    "y = df_temp['Rating']"
   ]
  },
  {
   "cell_type": "code",
   "execution_count": 54,
   "id": "8027ec39",
   "metadata": {},
   "outputs": [],
   "source": [
    "from sklearn.model_selection import train_test_split"
   ]
  },
  {
   "cell_type": "code",
   "execution_count": 55,
   "id": "2351be18",
   "metadata": {},
   "outputs": [],
   "source": [
    "X_train,X_test,y_train,y_test = train_test_split(X,y,test_size=0.2,random_state=42)"
   ]
  },
  {
   "cell_type": "code",
   "execution_count": 56,
   "id": "66b7e3c4",
   "metadata": {},
   "outputs": [
    {
     "data": {
      "text/html": [
       "<div>\n",
       "<style scoped>\n",
       "    .dataframe tbody tr th:only-of-type {\n",
       "        vertical-align: middle;\n",
       "    }\n",
       "\n",
       "    .dataframe tbody tr th {\n",
       "        vertical-align: top;\n",
       "    }\n",
       "\n",
       "    .dataframe thead th {\n",
       "        text-align: right;\n",
       "    }\n",
       "</style>\n",
       "<table border=\"1\" class=\"dataframe\">\n",
       "  <thead>\n",
       "    <tr style=\"text-align: right;\">\n",
       "      <th></th>\n",
       "      <th>ReviewText</th>\n",
       "    </tr>\n",
       "  </thead>\n",
       "  <tbody>\n",
       "    <tr>\n",
       "      <th>227833</th>\n",
       "      <td>These were not good at all... too spicy. Too ...</td>\n",
       "    </tr>\n",
       "    <tr>\n",
       "      <th>35155</th>\n",
       "      <td>I bought whole bunches of different types of ...</td>\n",
       "    </tr>\n",
       "    <tr>\n",
       "      <th>71459</th>\n",
       "      <td>I love it for what it is! I love the peanut b...</td>\n",
       "    </tr>\n",
       "    <tr>\n",
       "      <th>544527</th>\n",
       "      <td>If you love jalapeno chips then Kettle is a m...</td>\n",
       "    </tr>\n",
       "    <tr>\n",
       "      <th>376499</th>\n",
       "      <td>Addicted to tea and this is the perfect solut...</td>\n",
       "    </tr>\n",
       "  </tbody>\n",
       "</table>\n",
       "</div>"
      ],
      "text/plain": [
       "                                               ReviewText\n",
       "227833   These were not good at all... too spicy. Too ...\n",
       "35155    I bought whole bunches of different types of ...\n",
       "71459    I love it for what it is! I love the peanut b...\n",
       "544527   If you love jalapeno chips then Kettle is a m...\n",
       "376499   Addicted to tea and this is the perfect solut..."
      ]
     },
     "execution_count": 56,
     "metadata": {},
     "output_type": "execute_result"
    }
   ],
   "source": [
    "X_train.head()"
   ]
  },
  {
   "cell_type": "code",
   "execution_count": 28,
   "id": "169e35f9",
   "metadata": {},
   "outputs": [],
   "source": [
    "import re\n",
    "import nltk\n",
    "from nltk.tokenize import word_tokenize\n",
    "from nltk.corpus import stopwords\n",
    "from nltk.stem.porter import PorterStemmer\n",
    "from nltk.stem import WordNetLemmatizer"
   ]
  },
  {
   "cell_type": "code",
   "execution_count": 29,
   "id": "f6e109f3",
   "metadata": {},
   "outputs": [],
   "source": [
    "stemmer = PorterStemmer()\n",
    "lemmatizer = WordNetLemmatizer()"
   ]
  },
  {
   "cell_type": "code",
   "execution_count": 30,
   "id": "3bc9e3ce",
   "metadata": {},
   "outputs": [],
   "source": [
    "def preprocess(raw_text,flag):\n",
    "    # Removing special character and digits\n",
    "    sentence = re.sub(\"[^a-zA-Z]\",\" \",raw_text)\n",
    "    \n",
    "    # change sentence to lower case\n",
    "    sentence = sentence.lower()\n",
    "    \n",
    "    # tokenize into words\n",
    "    tokens = sentence.split()\n",
    "    \n",
    "    # remove stop words\n",
    "    clean_tokens = [t for t in tokens if not t in stopwords.words('english')]\n",
    "    \n",
    "    # stemming/lemmitization\n",
    "    \n",
    "    if flag == 'stem':\n",
    "        clean_tokens = [stemmer.stem(word) for word in clean_tokens]\n",
    "    else:\n",
    "        clean_tokens = [lemmatizer.lemmatize(word) for word in clean_tokens]\n",
    "    \n",
    "    return pd.Series([\" \".join(clean_tokens),len(clean_tokens)])\n",
    "    "
   ]
  },
  {
   "cell_type": "code",
   "execution_count": 31,
   "id": "f7d567a6",
   "metadata": {},
   "outputs": [],
   "source": [
    "from tqdm import tqdm, tqdm_notebook"
   ]
  },
  {
   "cell_type": "code",
   "execution_count": 32,
   "id": "941f623d",
   "metadata": {},
   "outputs": [],
   "source": [
    "tqdm.pandas()"
   ]
  },
  {
   "cell_type": "code",
   "execution_count": 33,
   "id": "beb2b5fc",
   "metadata": {},
   "outputs": [
    {
     "name": "stderr",
     "output_type": "stream",
     "text": [
      "100%|████████████████████████████████████████████████████████████████████████| 420300/420300 [3:34:44<00:00, 32.62it/s]\n"
     ]
    }
   ],
   "source": [
    "temp_df = X_train['ReviewText'].progress_apply(lambda x : preprocess(x,'stem'))"
   ]
  },
  {
   "cell_type": "code",
   "execution_count": 34,
   "id": "c808a929",
   "metadata": {},
   "outputs": [
    {
     "data": {
      "text/html": [
       "<div>\n",
       "<style scoped>\n",
       "    .dataframe tbody tr th:only-of-type {\n",
       "        vertical-align: middle;\n",
       "    }\n",
       "\n",
       "    .dataframe tbody tr th {\n",
       "        vertical-align: top;\n",
       "    }\n",
       "\n",
       "    .dataframe thead th {\n",
       "        text-align: right;\n",
       "    }\n",
       "</style>\n",
       "<table border=\"1\" class=\"dataframe\">\n",
       "  <thead>\n",
       "    <tr style=\"text-align: right;\">\n",
       "      <th></th>\n",
       "      <th>0</th>\n",
       "      <th>1</th>\n",
       "    </tr>\n",
       "  </thead>\n",
       "  <tbody>\n",
       "    <tr>\n",
       "      <th>227833</th>\n",
       "      <td>good spici limey crunch factor realli aw felt ...</td>\n",
       "      <td>20</td>\n",
       "    </tr>\n",
       "    <tr>\n",
       "      <th>35155</th>\n",
       "      <td>bought whole bunch differ type dri fruit inclu...</td>\n",
       "      <td>116</td>\n",
       "    </tr>\n",
       "    <tr>\n",
       "      <th>71459</th>\n",
       "      <td>love love peanut butter pint ice cream eat ice...</td>\n",
       "      <td>23</td>\n",
       "    </tr>\n",
       "    <tr>\n",
       "      <th>544527</th>\n",
       "      <td>love jalapeno chip kettl must tri br nice crun...</td>\n",
       "      <td>17</td>\n",
       "    </tr>\n",
       "    <tr>\n",
       "      <th>376499</th>\n",
       "      <td>addict tea perfect solut pg tip wonder know cl...</td>\n",
       "      <td>16</td>\n",
       "    </tr>\n",
       "  </tbody>\n",
       "</table>\n",
       "</div>"
      ],
      "text/plain": [
       "                                                        0    1\n",
       "227833  good spici limey crunch factor realli aw felt ...   20\n",
       "35155   bought whole bunch differ type dri fruit inclu...  116\n",
       "71459   love love peanut butter pint ice cream eat ice...   23\n",
       "544527  love jalapeno chip kettl must tri br nice crun...   17\n",
       "376499  addict tea perfect solut pg tip wonder know cl...   16"
      ]
     },
     "execution_count": 34,
     "metadata": {},
     "output_type": "execute_result"
    }
   ],
   "source": [
    "temp_df.head()"
   ]
  },
  {
   "cell_type": "code",
   "execution_count": 35,
   "id": "1064104e",
   "metadata": {},
   "outputs": [
    {
     "data": {
      "text/html": [
       "<div>\n",
       "<style scoped>\n",
       "    .dataframe tbody tr th:only-of-type {\n",
       "        vertical-align: middle;\n",
       "    }\n",
       "\n",
       "    .dataframe tbody tr th {\n",
       "        vertical-align: top;\n",
       "    }\n",
       "\n",
       "    .dataframe thead th {\n",
       "        text-align: right;\n",
       "    }\n",
       "</style>\n",
       "<table border=\"1\" class=\"dataframe\">\n",
       "  <thead>\n",
       "    <tr style=\"text-align: right;\">\n",
       "      <th></th>\n",
       "      <th>clean_text_stem</th>\n",
       "      <th>text_length_stem</th>\n",
       "    </tr>\n",
       "  </thead>\n",
       "  <tbody>\n",
       "    <tr>\n",
       "      <th>227833</th>\n",
       "      <td>good spici limey crunch factor realli aw felt ...</td>\n",
       "      <td>20</td>\n",
       "    </tr>\n",
       "    <tr>\n",
       "      <th>35155</th>\n",
       "      <td>bought whole bunch differ type dri fruit inclu...</td>\n",
       "      <td>116</td>\n",
       "    </tr>\n",
       "    <tr>\n",
       "      <th>71459</th>\n",
       "      <td>love love peanut butter pint ice cream eat ice...</td>\n",
       "      <td>23</td>\n",
       "    </tr>\n",
       "    <tr>\n",
       "      <th>544527</th>\n",
       "      <td>love jalapeno chip kettl must tri br nice crun...</td>\n",
       "      <td>17</td>\n",
       "    </tr>\n",
       "    <tr>\n",
       "      <th>376499</th>\n",
       "      <td>addict tea perfect solut pg tip wonder know cl...</td>\n",
       "      <td>16</td>\n",
       "    </tr>\n",
       "  </tbody>\n",
       "</table>\n",
       "</div>"
      ],
      "text/plain": [
       "                                          clean_text_stem  text_length_stem\n",
       "227833  good spici limey crunch factor realli aw felt ...                20\n",
       "35155   bought whole bunch differ type dri fruit inclu...               116\n",
       "71459   love love peanut butter pint ice cream eat ice...                23\n",
       "544527  love jalapeno chip kettl must tri br nice crun...                17\n",
       "376499  addict tea perfect solut pg tip wonder know cl...                16"
      ]
     },
     "execution_count": 35,
     "metadata": {},
     "output_type": "execute_result"
    }
   ],
   "source": [
    "temp_df.columns = ['clean_text_stem','text_length_stem']\n",
    "temp_df.head()"
   ]
  },
  {
   "cell_type": "code",
   "execution_count": 36,
   "id": "63c45a53",
   "metadata": {},
   "outputs": [
    {
     "data": {
      "text/html": [
       "<div>\n",
       "<style scoped>\n",
       "    .dataframe tbody tr th:only-of-type {\n",
       "        vertical-align: middle;\n",
       "    }\n",
       "\n",
       "    .dataframe tbody tr th {\n",
       "        vertical-align: top;\n",
       "    }\n",
       "\n",
       "    .dataframe thead th {\n",
       "        text-align: right;\n",
       "    }\n",
       "</style>\n",
       "<table border=\"1\" class=\"dataframe\">\n",
       "  <thead>\n",
       "    <tr style=\"text-align: right;\">\n",
       "      <th></th>\n",
       "      <th>ReviewText</th>\n",
       "      <th>clean_text_stem</th>\n",
       "      <th>text_length_stem</th>\n",
       "    </tr>\n",
       "  </thead>\n",
       "  <tbody>\n",
       "    <tr>\n",
       "      <th>227833</th>\n",
       "      <td>These were not good at all... too spicy. Too ...</td>\n",
       "      <td>good spici limey crunch factor realli aw felt ...</td>\n",
       "      <td>20</td>\n",
       "    </tr>\n",
       "    <tr>\n",
       "      <th>35155</th>\n",
       "      <td>I bought whole bunches of different types of ...</td>\n",
       "      <td>bought whole bunch differ type dri fruit inclu...</td>\n",
       "      <td>116</td>\n",
       "    </tr>\n",
       "    <tr>\n",
       "      <th>71459</th>\n",
       "      <td>I love it for what it is! I love the peanut b...</td>\n",
       "      <td>love love peanut butter pint ice cream eat ice...</td>\n",
       "      <td>23</td>\n",
       "    </tr>\n",
       "    <tr>\n",
       "      <th>544527</th>\n",
       "      <td>If you love jalapeno chips then Kettle is a m...</td>\n",
       "      <td>love jalapeno chip kettl must tri br nice crun...</td>\n",
       "      <td>17</td>\n",
       "    </tr>\n",
       "    <tr>\n",
       "      <th>376499</th>\n",
       "      <td>Addicted to tea and this is the perfect solut...</td>\n",
       "      <td>addict tea perfect solut pg tip wonder know cl...</td>\n",
       "      <td>16</td>\n",
       "    </tr>\n",
       "  </tbody>\n",
       "</table>\n",
       "</div>"
      ],
      "text/plain": [
       "                                               ReviewText  \\\n",
       "227833   These were not good at all... too spicy. Too ...   \n",
       "35155    I bought whole bunches of different types of ...   \n",
       "71459    I love it for what it is! I love the peanut b...   \n",
       "544527   If you love jalapeno chips then Kettle is a m...   \n",
       "376499   Addicted to tea and this is the perfect solut...   \n",
       "\n",
       "                                          clean_text_stem  text_length_stem  \n",
       "227833  good spici limey crunch factor realli aw felt ...                20  \n",
       "35155   bought whole bunch differ type dri fruit inclu...               116  \n",
       "71459   love love peanut butter pint ice cream eat ice...                23  \n",
       "544527  love jalapeno chip kettl must tri br nice crun...                17  \n",
       "376499  addict tea perfect solut pg tip wonder know cl...                16  "
      ]
     },
     "execution_count": 36,
     "metadata": {},
     "output_type": "execute_result"
    }
   ],
   "source": [
    "X_train = pd.concat([X_train,temp_df],axis = 1)\n",
    "X_train.head()"
   ]
  },
  {
   "cell_type": "code",
   "execution_count": 37,
   "id": "67766720",
   "metadata": {},
   "outputs": [
    {
     "name": "stderr",
     "output_type": "stream",
     "text": [
      "100%|████████████████████████████████████████████████████████████████████████| 420300/420300 [3:17:10<00:00, 35.53it/s]\n"
     ]
    }
   ],
   "source": [
    "temp_df = X_train['ReviewText'].progress_apply(lambda x : preprocess(x,'lemma'))"
   ]
  },
  {
   "cell_type": "code",
   "execution_count": 38,
   "id": "0e98f335",
   "metadata": {},
   "outputs": [
    {
     "data": {
      "text/html": [
       "<div>\n",
       "<style scoped>\n",
       "    .dataframe tbody tr th:only-of-type {\n",
       "        vertical-align: middle;\n",
       "    }\n",
       "\n",
       "    .dataframe tbody tr th {\n",
       "        vertical-align: top;\n",
       "    }\n",
       "\n",
       "    .dataframe thead th {\n",
       "        text-align: right;\n",
       "    }\n",
       "</style>\n",
       "<table border=\"1\" class=\"dataframe\">\n",
       "  <thead>\n",
       "    <tr style=\"text-align: right;\">\n",
       "      <th></th>\n",
       "      <th>clean_text_lemma</th>\n",
       "      <th>text_length_lemma</th>\n",
       "    </tr>\n",
       "  </thead>\n",
       "  <tbody>\n",
       "    <tr>\n",
       "      <th>227833</th>\n",
       "      <td>good spicy limey crunch factor really awful fe...</td>\n",
       "      <td>20</td>\n",
       "    </tr>\n",
       "    <tr>\n",
       "      <th>35155</th>\n",
       "      <td>bought whole bunch different type dried fruit ...</td>\n",
       "      <td>116</td>\n",
       "    </tr>\n",
       "    <tr>\n",
       "      <th>71459</th>\n",
       "      <td>love love peanut butter pint ice cream eat ice...</td>\n",
       "      <td>23</td>\n",
       "    </tr>\n",
       "    <tr>\n",
       "      <th>544527</th>\n",
       "      <td>love jalapeno chip kettle must try br nice cru...</td>\n",
       "      <td>17</td>\n",
       "    </tr>\n",
       "    <tr>\n",
       "      <th>376499</th>\n",
       "      <td>addicted tea perfect solution pg tip wonderful...</td>\n",
       "      <td>16</td>\n",
       "    </tr>\n",
       "  </tbody>\n",
       "</table>\n",
       "</div>"
      ],
      "text/plain": [
       "                                         clean_text_lemma  text_length_lemma\n",
       "227833  good spicy limey crunch factor really awful fe...                 20\n",
       "35155   bought whole bunch different type dried fruit ...                116\n",
       "71459   love love peanut butter pint ice cream eat ice...                 23\n",
       "544527  love jalapeno chip kettle must try br nice cru...                 17\n",
       "376499  addicted tea perfect solution pg tip wonderful...                 16"
      ]
     },
     "execution_count": 38,
     "metadata": {},
     "output_type": "execute_result"
    }
   ],
   "source": [
    "temp_df.columns = ['clean_text_lemma','text_length_lemma']\n",
    "temp_df.head()"
   ]
  },
  {
   "cell_type": "code",
   "execution_count": 67,
   "id": "2eeac2be",
   "metadata": {},
   "outputs": [
    {
     "data": {
      "text/html": [
       "<div>\n",
       "<style scoped>\n",
       "    .dataframe tbody tr th:only-of-type {\n",
       "        vertical-align: middle;\n",
       "    }\n",
       "\n",
       "    .dataframe tbody tr th {\n",
       "        vertical-align: top;\n",
       "    }\n",
       "\n",
       "    .dataframe thead th {\n",
       "        text-align: right;\n",
       "    }\n",
       "</style>\n",
       "<table border=\"1\" class=\"dataframe\">\n",
       "  <thead>\n",
       "    <tr style=\"text-align: right;\">\n",
       "      <th></th>\n",
       "      <th>Unnamed: 0</th>\n",
       "      <th>ReviewText</th>\n",
       "      <th>clean_text_stem</th>\n",
       "      <th>text_length_stem</th>\n",
       "      <th>clean_text_lemma</th>\n",
       "      <th>text_length_lemma</th>\n",
       "      <th>clean_text_lemma</th>\n",
       "      <th>text_length_lemma</th>\n",
       "    </tr>\n",
       "  </thead>\n",
       "  <tbody>\n",
       "    <tr>\n",
       "      <th>0</th>\n",
       "      <td>227833.0</td>\n",
       "      <td>These were not good at all... too spicy. Too ...</td>\n",
       "      <td>good spici limey crunch factor realli aw felt ...</td>\n",
       "      <td>20.0</td>\n",
       "      <td>good spicy limey crunch factor really awful fe...</td>\n",
       "      <td>20.0</td>\n",
       "      <td>NaN</td>\n",
       "      <td>NaN</td>\n",
       "    </tr>\n",
       "    <tr>\n",
       "      <th>1</th>\n",
       "      <td>35155.0</td>\n",
       "      <td>I bought whole bunches of different types of ...</td>\n",
       "      <td>bought whole bunch differ type dri fruit inclu...</td>\n",
       "      <td>116.0</td>\n",
       "      <td>bought whole bunch different type dried fruit ...</td>\n",
       "      <td>116.0</td>\n",
       "      <td>NaN</td>\n",
       "      <td>NaN</td>\n",
       "    </tr>\n",
       "    <tr>\n",
       "      <th>2</th>\n",
       "      <td>71459.0</td>\n",
       "      <td>I love it for what it is! I love the peanut b...</td>\n",
       "      <td>love love peanut butter pint ice cream eat ice...</td>\n",
       "      <td>23.0</td>\n",
       "      <td>love love peanut butter pint ice cream eat ice...</td>\n",
       "      <td>23.0</td>\n",
       "      <td>fed golden retriever hated eat gave terrible d...</td>\n",
       "      <td>12.0</td>\n",
       "    </tr>\n",
       "    <tr>\n",
       "      <th>3</th>\n",
       "      <td>544527.0</td>\n",
       "      <td>If you love jalapeno chips then Kettle is a m...</td>\n",
       "      <td>love jalapeno chip kettl must tri br nice crun...</td>\n",
       "      <td>17.0</td>\n",
       "      <td>love jalapeno chip kettle must try br nice cru...</td>\n",
       "      <td>17.0</td>\n",
       "      <td>NaN</td>\n",
       "      <td>NaN</td>\n",
       "    </tr>\n",
       "    <tr>\n",
       "      <th>4</th>\n",
       "      <td>376499.0</td>\n",
       "      <td>Addicted to tea and this is the perfect solut...</td>\n",
       "      <td>addict tea perfect solut pg tip wonder know cl...</td>\n",
       "      <td>16.0</td>\n",
       "      <td>addicted tea perfect solution pg tip wonderful...</td>\n",
       "      <td>16.0</td>\n",
       "      <td>NaN</td>\n",
       "      <td>NaN</td>\n",
       "    </tr>\n",
       "  </tbody>\n",
       "</table>\n",
       "</div>"
      ],
      "text/plain": [
       "   Unnamed: 0                                         ReviewText  \\\n",
       "0    227833.0   These were not good at all... too spicy. Too ...   \n",
       "1     35155.0   I bought whole bunches of different types of ...   \n",
       "2     71459.0   I love it for what it is! I love the peanut b...   \n",
       "3    544527.0   If you love jalapeno chips then Kettle is a m...   \n",
       "4    376499.0   Addicted to tea and this is the perfect solut...   \n",
       "\n",
       "                                     clean_text_stem  text_length_stem  \\\n",
       "0  good spici limey crunch factor realli aw felt ...              20.0   \n",
       "1  bought whole bunch differ type dri fruit inclu...             116.0   \n",
       "2  love love peanut butter pint ice cream eat ice...              23.0   \n",
       "3  love jalapeno chip kettl must tri br nice crun...              17.0   \n",
       "4  addict tea perfect solut pg tip wonder know cl...              16.0   \n",
       "\n",
       "                                    clean_text_lemma  text_length_lemma  \\\n",
       "0  good spicy limey crunch factor really awful fe...               20.0   \n",
       "1  bought whole bunch different type dried fruit ...              116.0   \n",
       "2  love love peanut butter pint ice cream eat ice...               23.0   \n",
       "3  love jalapeno chip kettle must try br nice cru...               17.0   \n",
       "4  addicted tea perfect solution pg tip wonderful...               16.0   \n",
       "\n",
       "                                    clean_text_lemma  text_length_lemma  \n",
       "0                                                NaN                NaN  \n",
       "1                                                NaN                NaN  \n",
       "2  fed golden retriever hated eat gave terrible d...               12.0  \n",
       "3                                                NaN                NaN  \n",
       "4                                                NaN                NaN  "
      ]
     },
     "execution_count": 67,
     "metadata": {},
     "output_type": "execute_result"
    }
   ],
   "source": [
    "X_train = pd.concat([X_train,temp_df],axis = 1)\n",
    "\n",
    "X_train.head()"
   ]
  },
  {
   "cell_type": "code",
   "execution_count": 73,
   "id": "3a56f949",
   "metadata": {},
   "outputs": [],
   "source": [
    "X_train = pd.read_csv('train.csv')"
   ]
  },
  {
   "cell_type": "code",
   "execution_count": 74,
   "id": "b899a939",
   "metadata": {},
   "outputs": [
    {
     "data": {
      "text/plain": [
       "Unnamed: 0           0\n",
       "ReviewText           0\n",
       "clean_text_stem      1\n",
       "text_length_stem     0\n",
       "clean_text_lemma     1\n",
       "text_length_lemma    0\n",
       "dtype: int64"
      ]
     },
     "execution_count": 74,
     "metadata": {},
     "output_type": "execute_result"
    }
   ],
   "source": [
    "X_train.isnull().sum()"
   ]
  },
  {
   "cell_type": "code",
   "execution_count": 75,
   "id": "70800609",
   "metadata": {},
   "outputs": [
    {
     "data": {
      "text/html": [
       "<div>\n",
       "<style scoped>\n",
       "    .dataframe tbody tr th:only-of-type {\n",
       "        vertical-align: middle;\n",
       "    }\n",
       "\n",
       "    .dataframe tbody tr th {\n",
       "        vertical-align: top;\n",
       "    }\n",
       "\n",
       "    .dataframe thead th {\n",
       "        text-align: right;\n",
       "    }\n",
       "</style>\n",
       "<table border=\"1\" class=\"dataframe\">\n",
       "  <thead>\n",
       "    <tr style=\"text-align: right;\">\n",
       "      <th></th>\n",
       "      <th>Unnamed: 0</th>\n",
       "      <th>ReviewText</th>\n",
       "      <th>clean_text_stem</th>\n",
       "      <th>text_length_stem</th>\n",
       "      <th>clean_text_lemma</th>\n",
       "      <th>text_length_lemma</th>\n",
       "    </tr>\n",
       "  </thead>\n",
       "  <tbody>\n",
       "    <tr>\n",
       "      <th>155829</th>\n",
       "      <td>148748</td>\n",
       "      <td>&amp;#1056;&amp;#1077;&amp;#1096;&amp;#1080;&amp;#1083;&amp;#1072; &amp;#...</td>\n",
       "      <td>NaN</td>\n",
       "      <td>0</td>\n",
       "      <td>NaN</td>\n",
       "      <td>0</td>\n",
       "    </tr>\n",
       "  </tbody>\n",
       "</table>\n",
       "</div>"
      ],
      "text/plain": [
       "        Unnamed: 0                                         ReviewText  \\\n",
       "155829      148748   &#1056;&#1077;&#1096;&#1080;&#1083;&#1072; &#...   \n",
       "\n",
       "       clean_text_stem  text_length_stem clean_text_lemma  text_length_lemma  \n",
       "155829             NaN                 0              NaN                  0  "
      ]
     },
     "execution_count": 75,
     "metadata": {},
     "output_type": "execute_result"
    }
   ],
   "source": [
    "X_train[X_train.clean_text_lemma.isnull()]"
   ]
  },
  {
   "cell_type": "code",
   "execution_count": 83,
   "id": "393052ca",
   "metadata": {},
   "outputs": [],
   "source": [
    "X_train.drop(X_train.index[155829],inplace = True)"
   ]
  },
  {
   "cell_type": "code",
   "execution_count": 84,
   "id": "914351e0",
   "metadata": {},
   "outputs": [
    {
     "data": {
      "text/plain": [
       "Unnamed: 0           0\n",
       "ReviewText           0\n",
       "clean_text_stem      0\n",
       "text_length_stem     0\n",
       "clean_text_lemma     0\n",
       "text_length_lemma    0\n",
       "dtype: int64"
      ]
     },
     "execution_count": 84,
     "metadata": {},
     "output_type": "execute_result"
    }
   ],
   "source": [
    "X_train.isnull().sum()"
   ]
  },
  {
   "cell_type": "code",
   "execution_count": 85,
   "id": "9a505f5e",
   "metadata": {},
   "outputs": [],
   "source": [
    "from sklearn.feature_extraction.text import CountVectorizer\n",
    "\n",
    "vocab = CountVectorizer()\n",
    "vocab.fit(X_train['clean_text_lemma'])\n",
    "X_train_bow = vocab.transform(X_train['clean_text_lemma'])"
   ]
  },
  {
   "cell_type": "code",
   "execution_count": 86,
   "id": "6a86839b",
   "metadata": {},
   "outputs": [
    {
     "data": {
      "text/plain": [
       "<420299x89520 sparse matrix of type '<class 'numpy.int64'>'\n",
       "\twith 13703618 stored elements in Compressed Sparse Row format>"
      ]
     },
     "execution_count": 86,
     "metadata": {},
     "output_type": "execute_result"
    }
   ],
   "source": [
    "X_train_bow"
   ]
  },
  {
   "cell_type": "code",
   "execution_count": 87,
   "id": "a15365be",
   "metadata": {},
   "outputs": [
    {
     "name": "stdout",
     "output_type": "stream",
     "text": [
      "Toral unique words: 89520\n",
      "Type of train features: <class 'scipy.sparse.csr.csr_matrix'>\n",
      "shape of input data: (420299, 89520)\n"
     ]
    }
   ],
   "source": [
    "print('Toral unique words:', len(vocab.vocabulary_))\n",
    "print('Type of train features:', type(X_train_bow))\n",
    "print('shape of input data:', X_train_bow.shape)"
   ]
  },
  {
   "cell_type": "code",
   "execution_count": 47,
   "id": "e8d16be2",
   "metadata": {},
   "outputs": [
    {
     "name": "stderr",
     "output_type": "stream",
     "text": [
      "100%|██████████████████████████████████████████████████████████████████████████| 105075/105075 [54:56<00:00, 31.88it/s]\n"
     ]
    }
   ],
   "source": [
    "temp_df = X_test['ReviewText'].progress_apply(lambda x : preprocess(x,'stem'))"
   ]
  },
  {
   "cell_type": "code",
   "execution_count": 48,
   "id": "0c657167",
   "metadata": {},
   "outputs": [
    {
     "data": {
      "text/html": [
       "<div>\n",
       "<style scoped>\n",
       "    .dataframe tbody tr th:only-of-type {\n",
       "        vertical-align: middle;\n",
       "    }\n",
       "\n",
       "    .dataframe tbody tr th {\n",
       "        vertical-align: top;\n",
       "    }\n",
       "\n",
       "    .dataframe thead th {\n",
       "        text-align: right;\n",
       "    }\n",
       "</style>\n",
       "<table border=\"1\" class=\"dataframe\">\n",
       "  <thead>\n",
       "    <tr style=\"text-align: right;\">\n",
       "      <th></th>\n",
       "      <th>clean_text_stem</th>\n",
       "      <th>text_length_stem</th>\n",
       "    </tr>\n",
       "  </thead>\n",
       "  <tbody>\n",
       "    <tr>\n",
       "      <th>269177</th>\n",
       "      <td>one best chai tea tri tri bunch br br numi alm...</td>\n",
       "      <td>87</td>\n",
       "    </tr>\n",
       "    <tr>\n",
       "      <th>260105</th>\n",
       "      <td>husband cook hous saw chef tv use pomi strain ...</td>\n",
       "      <td>14</td>\n",
       "    </tr>\n",
       "    <tr>\n",
       "      <th>428951</th>\n",
       "      <td>drink coffe exclus sinc introduc local italian...</td>\n",
       "      <td>21</td>\n",
       "    </tr>\n",
       "    <tr>\n",
       "      <th>175804</th>\n",
       "      <td>coffe delici smooth hint mocha make amaz cappu...</td>\n",
       "      <td>31</td>\n",
       "    </tr>\n",
       "    <tr>\n",
       "      <th>273636</th>\n",
       "      <td>href http www amazon com gp product b lkxgku n...</td>\n",
       "      <td>95</td>\n",
       "    </tr>\n",
       "  </tbody>\n",
       "</table>\n",
       "</div>"
      ],
      "text/plain": [
       "                                          clean_text_stem  text_length_stem\n",
       "269177  one best chai tea tri tri bunch br br numi alm...                87\n",
       "260105  husband cook hous saw chef tv use pomi strain ...                14\n",
       "428951  drink coffe exclus sinc introduc local italian...                21\n",
       "175804  coffe delici smooth hint mocha make amaz cappu...                31\n",
       "273636  href http www amazon com gp product b lkxgku n...                95"
      ]
     },
     "execution_count": 48,
     "metadata": {},
     "output_type": "execute_result"
    }
   ],
   "source": [
    "temp_df.columns = ['clean_text_stem','text_length_stem']\n",
    "temp_df.head()"
   ]
  },
  {
   "cell_type": "code",
   "execution_count": 61,
   "id": "27a4b84f",
   "metadata": {},
   "outputs": [
    {
     "data": {
      "text/html": [
       "<div>\n",
       "<style scoped>\n",
       "    .dataframe tbody tr th:only-of-type {\n",
       "        vertical-align: middle;\n",
       "    }\n",
       "\n",
       "    .dataframe tbody tr th {\n",
       "        vertical-align: top;\n",
       "    }\n",
       "\n",
       "    .dataframe thead th {\n",
       "        text-align: right;\n",
       "    }\n",
       "</style>\n",
       "<table border=\"1\" class=\"dataframe\">\n",
       "  <thead>\n",
       "    <tr style=\"text-align: right;\">\n",
       "      <th></th>\n",
       "      <th>clean_text_stem</th>\n",
       "      <th>text_length_stem</th>\n",
       "    </tr>\n",
       "  </thead>\n",
       "  <tbody>\n",
       "    <tr>\n",
       "      <th>269177</th>\n",
       "      <td>one best chai tea tri tri bunch br br numi alm...</td>\n",
       "      <td>87</td>\n",
       "    </tr>\n",
       "    <tr>\n",
       "      <th>260105</th>\n",
       "      <td>husband cook hous saw chef tv use pomi strain ...</td>\n",
       "      <td>14</td>\n",
       "    </tr>\n",
       "    <tr>\n",
       "      <th>428951</th>\n",
       "      <td>drink coffe exclus sinc introduc local italian...</td>\n",
       "      <td>21</td>\n",
       "    </tr>\n",
       "    <tr>\n",
       "      <th>175804</th>\n",
       "      <td>coffe delici smooth hint mocha make amaz cappu...</td>\n",
       "      <td>31</td>\n",
       "    </tr>\n",
       "    <tr>\n",
       "      <th>273636</th>\n",
       "      <td>href http www amazon com gp product b lkxgku n...</td>\n",
       "      <td>95</td>\n",
       "    </tr>\n",
       "  </tbody>\n",
       "</table>\n",
       "</div>"
      ],
      "text/plain": [
       "                                          clean_text_stem  text_length_stem\n",
       "269177  one best chai tea tri tri bunch br br numi alm...                87\n",
       "260105  husband cook hous saw chef tv use pomi strain ...                14\n",
       "428951  drink coffe exclus sinc introduc local italian...                21\n",
       "175804  coffe delici smooth hint mocha make amaz cappu...                31\n",
       "273636  href http www amazon com gp product b lkxgku n...                95"
      ]
     },
     "execution_count": 61,
     "metadata": {},
     "output_type": "execute_result"
    }
   ],
   "source": [
    "temp_df.head()"
   ]
  },
  {
   "cell_type": "code",
   "execution_count": 62,
   "id": "7417f047",
   "metadata": {},
   "outputs": [
    {
     "data": {
      "text/html": [
       "<div>\n",
       "<style scoped>\n",
       "    .dataframe tbody tr th:only-of-type {\n",
       "        vertical-align: middle;\n",
       "    }\n",
       "\n",
       "    .dataframe tbody tr th {\n",
       "        vertical-align: top;\n",
       "    }\n",
       "\n",
       "    .dataframe thead th {\n",
       "        text-align: right;\n",
       "    }\n",
       "</style>\n",
       "<table border=\"1\" class=\"dataframe\">\n",
       "  <thead>\n",
       "    <tr style=\"text-align: right;\">\n",
       "      <th></th>\n",
       "      <th>ReviewText</th>\n",
       "      <th>clean_text_stem</th>\n",
       "      <th>text_length_stem</th>\n",
       "    </tr>\n",
       "  </thead>\n",
       "  <tbody>\n",
       "    <tr>\n",
       "      <th>269177</th>\n",
       "      <td>This one is the Best of all the chai teas I'v...</td>\n",
       "      <td>one best chai tea tri tri bunch br br numi alm...</td>\n",
       "      <td>87</td>\n",
       "    </tr>\n",
       "    <tr>\n",
       "      <th>260105</th>\n",
       "      <td>My husband is the cook in our house.  He saw ...</td>\n",
       "      <td>husband cook hous saw chef tv use pomi strain ...</td>\n",
       "      <td>14</td>\n",
       "    </tr>\n",
       "    <tr>\n",
       "      <th>428951</th>\n",
       "      <td>I have been drinking this coffee exclusively ...</td>\n",
       "      <td>drink coffe exclus sinc introduc local italian...</td>\n",
       "      <td>21</td>\n",
       "    </tr>\n",
       "    <tr>\n",
       "      <th>175804</th>\n",
       "      <td>This coffee is so delicious--very smooth, wit...</td>\n",
       "      <td>coffe delici smooth hint mocha make amaz cappu...</td>\n",
       "      <td>31</td>\n",
       "    </tr>\n",
       "    <tr>\n",
       "      <th>273636</th>\n",
       "      <td>&lt;a href=\"http,//www.amazon.com/gp/product/B00...</td>\n",
       "      <td>href http www amazon com gp product b lkxgku n...</td>\n",
       "      <td>95</td>\n",
       "    </tr>\n",
       "  </tbody>\n",
       "</table>\n",
       "</div>"
      ],
      "text/plain": [
       "                                               ReviewText  \\\n",
       "269177   This one is the Best of all the chai teas I'v...   \n",
       "260105   My husband is the cook in our house.  He saw ...   \n",
       "428951   I have been drinking this coffee exclusively ...   \n",
       "175804   This coffee is so delicious--very smooth, wit...   \n",
       "273636   <a href=\"http,//www.amazon.com/gp/product/B00...   \n",
       "\n",
       "                                          clean_text_stem  text_length_stem  \n",
       "269177  one best chai tea tri tri bunch br br numi alm...                87  \n",
       "260105  husband cook hous saw chef tv use pomi strain ...                14  \n",
       "428951  drink coffe exclus sinc introduc local italian...                21  \n",
       "175804  coffe delici smooth hint mocha make amaz cappu...                31  \n",
       "273636  href http www amazon com gp product b lkxgku n...                95  "
      ]
     },
     "execution_count": 62,
     "metadata": {},
     "output_type": "execute_result"
    }
   ],
   "source": [
    "X_test = pd.concat([X_test,temp_df],axis = 1)\n",
    "X_test.head()"
   ]
  },
  {
   "cell_type": "code",
   "execution_count": 63,
   "id": "106102d9",
   "metadata": {},
   "outputs": [
    {
     "name": "stderr",
     "output_type": "stream",
     "text": [
      "100%|██████████████████████████████████████████████████████████████████████████| 105075/105075 [53:57<00:00, 32.45it/s]\n"
     ]
    }
   ],
   "source": [
    "temp_df = X_test['ReviewText'].progress_apply(lambda x : preprocess(x,'lemma'))"
   ]
  },
  {
   "cell_type": "code",
   "execution_count": 64,
   "id": "ea4e6d4b",
   "metadata": {},
   "outputs": [
    {
     "data": {
      "text/html": [
       "<div>\n",
       "<style scoped>\n",
       "    .dataframe tbody tr th:only-of-type {\n",
       "        vertical-align: middle;\n",
       "    }\n",
       "\n",
       "    .dataframe tbody tr th {\n",
       "        vertical-align: top;\n",
       "    }\n",
       "\n",
       "    .dataframe thead th {\n",
       "        text-align: right;\n",
       "    }\n",
       "</style>\n",
       "<table border=\"1\" class=\"dataframe\">\n",
       "  <thead>\n",
       "    <tr style=\"text-align: right;\">\n",
       "      <th></th>\n",
       "      <th>clean_text_lemma</th>\n",
       "      <th>text_length_lemma</th>\n",
       "    </tr>\n",
       "  </thead>\n",
       "  <tbody>\n",
       "    <tr>\n",
       "      <th>269177</th>\n",
       "      <td>one best chai tea tried tried bunch br br numi...</td>\n",
       "      <td>87</td>\n",
       "    </tr>\n",
       "    <tr>\n",
       "      <th>260105</th>\n",
       "      <td>husband cook house saw chef tv using pomi stra...</td>\n",
       "      <td>14</td>\n",
       "    </tr>\n",
       "    <tr>\n",
       "      <th>428951</th>\n",
       "      <td>drinking coffee exclusively since introduced l...</td>\n",
       "      <td>21</td>\n",
       "    </tr>\n",
       "    <tr>\n",
       "      <th>175804</th>\n",
       "      <td>coffee delicious smooth hint mocha make amazin...</td>\n",
       "      <td>31</td>\n",
       "    </tr>\n",
       "    <tr>\n",
       "      <th>273636</th>\n",
       "      <td>href http www amazon com gp product b lkxgku n...</td>\n",
       "      <td>95</td>\n",
       "    </tr>\n",
       "  </tbody>\n",
       "</table>\n",
       "</div>"
      ],
      "text/plain": [
       "                                         clean_text_lemma  text_length_lemma\n",
       "269177  one best chai tea tried tried bunch br br numi...                 87\n",
       "260105  husband cook house saw chef tv using pomi stra...                 14\n",
       "428951  drinking coffee exclusively since introduced l...                 21\n",
       "175804  coffee delicious smooth hint mocha make amazin...                 31\n",
       "273636  href http www amazon com gp product b lkxgku n...                 95"
      ]
     },
     "execution_count": 64,
     "metadata": {},
     "output_type": "execute_result"
    }
   ],
   "source": [
    "temp_df.columns = ['clean_text_lemma','text_length_lemma']\n",
    "temp_df.head()"
   ]
  },
  {
   "cell_type": "code",
   "execution_count": 65,
   "id": "30de3332",
   "metadata": {},
   "outputs": [
    {
     "data": {
      "text/html": [
       "<div>\n",
       "<style scoped>\n",
       "    .dataframe tbody tr th:only-of-type {\n",
       "        vertical-align: middle;\n",
       "    }\n",
       "\n",
       "    .dataframe tbody tr th {\n",
       "        vertical-align: top;\n",
       "    }\n",
       "\n",
       "    .dataframe thead th {\n",
       "        text-align: right;\n",
       "    }\n",
       "</style>\n",
       "<table border=\"1\" class=\"dataframe\">\n",
       "  <thead>\n",
       "    <tr style=\"text-align: right;\">\n",
       "      <th></th>\n",
       "      <th>ReviewText</th>\n",
       "      <th>clean_text_stem</th>\n",
       "      <th>text_length_stem</th>\n",
       "      <th>clean_text_lemma</th>\n",
       "      <th>text_length_lemma</th>\n",
       "    </tr>\n",
       "  </thead>\n",
       "  <tbody>\n",
       "    <tr>\n",
       "      <th>269177</th>\n",
       "      <td>This one is the Best of all the chai teas I'v...</td>\n",
       "      <td>one best chai tea tri tri bunch br br numi alm...</td>\n",
       "      <td>87</td>\n",
       "      <td>one best chai tea tried tried bunch br br numi...</td>\n",
       "      <td>87</td>\n",
       "    </tr>\n",
       "    <tr>\n",
       "      <th>260105</th>\n",
       "      <td>My husband is the cook in our house.  He saw ...</td>\n",
       "      <td>husband cook hous saw chef tv use pomi strain ...</td>\n",
       "      <td>14</td>\n",
       "      <td>husband cook house saw chef tv using pomi stra...</td>\n",
       "      <td>14</td>\n",
       "    </tr>\n",
       "    <tr>\n",
       "      <th>428951</th>\n",
       "      <td>I have been drinking this coffee exclusively ...</td>\n",
       "      <td>drink coffe exclus sinc introduc local italian...</td>\n",
       "      <td>21</td>\n",
       "      <td>drinking coffee exclusively since introduced l...</td>\n",
       "      <td>21</td>\n",
       "    </tr>\n",
       "    <tr>\n",
       "      <th>175804</th>\n",
       "      <td>This coffee is so delicious--very smooth, wit...</td>\n",
       "      <td>coffe delici smooth hint mocha make amaz cappu...</td>\n",
       "      <td>31</td>\n",
       "      <td>coffee delicious smooth hint mocha make amazin...</td>\n",
       "      <td>31</td>\n",
       "    </tr>\n",
       "    <tr>\n",
       "      <th>273636</th>\n",
       "      <td>&lt;a href=\"http,//www.amazon.com/gp/product/B00...</td>\n",
       "      <td>href http www amazon com gp product b lkxgku n...</td>\n",
       "      <td>95</td>\n",
       "      <td>href http www amazon com gp product b lkxgku n...</td>\n",
       "      <td>95</td>\n",
       "    </tr>\n",
       "  </tbody>\n",
       "</table>\n",
       "</div>"
      ],
      "text/plain": [
       "                                               ReviewText  \\\n",
       "269177   This one is the Best of all the chai teas I'v...   \n",
       "260105   My husband is the cook in our house.  He saw ...   \n",
       "428951   I have been drinking this coffee exclusively ...   \n",
       "175804   This coffee is so delicious--very smooth, wit...   \n",
       "273636   <a href=\"http,//www.amazon.com/gp/product/B00...   \n",
       "\n",
       "                                          clean_text_stem  text_length_stem  \\\n",
       "269177  one best chai tea tri tri bunch br br numi alm...                87   \n",
       "260105  husband cook hous saw chef tv use pomi strain ...                14   \n",
       "428951  drink coffe exclus sinc introduc local italian...                21   \n",
       "175804  coffe delici smooth hint mocha make amaz cappu...                31   \n",
       "273636  href http www amazon com gp product b lkxgku n...                95   \n",
       "\n",
       "                                         clean_text_lemma  text_length_lemma  \n",
       "269177  one best chai tea tried tried bunch br br numi...                 87  \n",
       "260105  husband cook house saw chef tv using pomi stra...                 14  \n",
       "428951  drinking coffee exclusively since introduced l...                 21  \n",
       "175804  coffee delicious smooth hint mocha make amazin...                 31  \n",
       "273636  href http www amazon com gp product b lkxgku n...                 95  "
      ]
     },
     "execution_count": 65,
     "metadata": {},
     "output_type": "execute_result"
    }
   ],
   "source": [
    "X_test = pd.concat([X_test,temp_df],axis = 1)\n",
    "\n",
    "X_test.head()"
   ]
  },
  {
   "cell_type": "code",
   "execution_count": 68,
   "id": "6ead0835",
   "metadata": {},
   "outputs": [],
   "source": [
    "from sklearn.feature_extraction.text import CountVectorizer\n",
    "\n",
    "vocab = CountVectorizer()\n",
    "vocab.fit(X_test['clean_text_lemma'])\n",
    "X_test_bow = vocab.transform(X_test['clean_text_lemma'])"
   ]
  },
  {
   "cell_type": "code",
   "execution_count": 71,
   "id": "81d24e3a",
   "metadata": {},
   "outputs": [
    {
     "data": {
      "text/plain": [
       "<105075x49239 sparse matrix of type '<class 'numpy.int64'>'\n",
       "\twith 3411903 stored elements in Compressed Sparse Row format>"
      ]
     },
     "execution_count": 71,
     "metadata": {},
     "output_type": "execute_result"
    }
   ],
   "source": [
    "X_test_bow"
   ]
  },
  {
   "cell_type": "code",
   "execution_count": 72,
   "id": "3f2784a1",
   "metadata": {},
   "outputs": [
    {
     "name": "stdout",
     "output_type": "stream",
     "text": [
      "Toral unique words: 49239\n",
      "Type of train features: <class 'scipy.sparse.csr.csr_matrix'>\n",
      "shape of input data: (105075, 49239)\n"
     ]
    }
   ],
   "source": [
    "print('Toral unique words:', len(vocab.vocabulary_))\n",
    "print('Type of train features:', type(X_test_bow))\n",
    "print('shape of input data:', X_test_bow.shape)"
   ]
  },
  {
   "cell_type": "code",
   "execution_count": 89,
   "id": "843ccc55",
   "metadata": {},
   "outputs": [
    {
     "data": {
      "text/plain": [
       "<420299x89520 sparse matrix of type '<class 'numpy.int64'>'\n",
       "\twith 13703618 stored elements in Compressed Sparse Row format>"
      ]
     },
     "execution_count": 89,
     "metadata": {},
     "output_type": "execute_result"
    }
   ],
   "source": [
    "X_train_bow"
   ]
  },
  {
   "cell_type": "code",
   "execution_count": 90,
   "id": "8cc9eac7",
   "metadata": {},
   "outputs": [
    {
     "data": {
      "text/plain": [
       "<105075x49239 sparse matrix of type '<class 'numpy.int64'>'\n",
       "\twith 3411903 stored elements in Compressed Sparse Row format>"
      ]
     },
     "execution_count": 90,
     "metadata": {},
     "output_type": "execute_result"
    }
   ],
   "source": [
    "X_test_bow"
   ]
  },
  {
   "cell_type": "code",
   "execution_count": 94,
   "id": "85933fd7",
   "metadata": {},
   "outputs": [],
   "source": [
    "y_train = y_train.apply(lambda x : 1   if x == 'Positive' else 0)"
   ]
  },
  {
   "cell_type": "code",
   "execution_count": 96,
   "id": "6b033444",
   "metadata": {},
   "outputs": [
    {
     "data": {
      "text/plain": [
       "227833    0\n",
       "35155     0\n",
       "71459     1\n",
       "544527    1\n",
       "376499    1\n",
       "Name: Rating, dtype: int64"
      ]
     },
     "execution_count": 96,
     "metadata": {},
     "output_type": "execute_result"
    }
   ],
   "source": [
    "y_train.head()"
   ]
  },
  {
   "cell_type": "code",
   "execution_count": 97,
   "id": "f64545f8",
   "metadata": {},
   "outputs": [],
   "source": [
    "y_test = y_test.apply(lambda x : 1   if x == 'Positive' else 0)"
   ]
  },
  {
   "cell_type": "code",
   "execution_count": 98,
   "id": "8b506eaa",
   "metadata": {},
   "outputs": [
    {
     "data": {
      "text/plain": [
       "269177    1\n",
       "260105    1\n",
       "428951    1\n",
       "175804    1\n",
       "273636    1\n",
       "Name: Rating, dtype: int64"
      ]
     },
     "execution_count": 98,
     "metadata": {},
     "output_type": "execute_result"
    }
   ],
   "source": [
    "y_test.head()"
   ]
  },
  {
   "cell_type": "code",
   "execution_count": 100,
   "id": "f7aa2913",
   "metadata": {},
   "outputs": [],
   "source": [
    "y_train.drop(y_train.index[155829],inplace = True)"
   ]
  },
  {
   "cell_type": "code",
   "execution_count": 101,
   "id": "a18b6339",
   "metadata": {},
   "outputs": [
    {
     "data": {
      "text/plain": [
       "(420299,)"
      ]
     },
     "execution_count": 101,
     "metadata": {},
     "output_type": "execute_result"
    }
   ],
   "source": [
    "y_train.shape"
   ]
  },
  {
   "cell_type": "code",
   "execution_count": 109,
   "id": "a832f19e",
   "metadata": {},
   "outputs": [],
   "source": [
    "X_train_dum = X_train_bow[:, :49239]\n"
   ]
  },
  {
   "cell_type": "code",
   "execution_count": 110,
   "id": "c0bdf56f",
   "metadata": {},
   "outputs": [
    {
     "name": "stderr",
     "output_type": "stream",
     "text": [
      "C:\\Users\\prashanth\\anaconda3\\lib\\site-packages\\sklearn\\linear_model\\_logistic.py:763: ConvergenceWarning: lbfgs failed to converge (status=1):\n",
      "STOP: TOTAL NO. of ITERATIONS REACHED LIMIT.\n",
      "\n",
      "Increase the number of iterations (max_iter) or scale the data as shown in:\n",
      "    https://scikit-learn.org/stable/modules/preprocessing.html\n",
      "Please also refer to the documentation for alternative solver options:\n",
      "    https://scikit-learn.org/stable/modules/linear_model.html#logistic-regression\n",
      "  n_iter_i = _check_optimize_result(\n"
     ]
    },
    {
     "data": {
      "text/plain": [
       "LogisticRegression()"
      ]
     },
     "execution_count": 110,
     "metadata": {},
     "output_type": "execute_result"
    }
   ],
   "source": [
    "from sklearn.linear_model import LogisticRegression\n",
    "classifier = LogisticRegression()\n",
    "classifier.fit(X_train_dum,y_train)"
   ]
  },
  {
   "cell_type": "code",
   "execution_count": 111,
   "id": "7ace4616",
   "metadata": {},
   "outputs": [],
   "source": [
    "y_test_pred = classifier.predict(X_test_bow)"
   ]
  },
  {
   "cell_type": "code",
   "execution_count": 112,
   "id": "7577b5d2",
   "metadata": {},
   "outputs": [
    {
     "name": "stdout",
     "output_type": "stream",
     "text": [
      "0.789931001665477\n",
      "              precision    recall  f1-score   support\n",
      "\n",
      "           0       0.17      0.09      0.11     16441\n",
      "           1       0.84      0.92      0.88     88634\n",
      "\n",
      "    accuracy                           0.79    105075\n",
      "   macro avg       0.51      0.50      0.50    105075\n",
      "weighted avg       0.74      0.79      0.76    105075\n",
      "\n"
     ]
    }
   ],
   "source": [
    "from sklearn.metrics import accuracy_score, classification_report\n",
    "\n",
    "print(accuracy_score(y_test,y_test_pred))\n",
    "\n",
    "print(classification_report(y_test,y_test_pred))"
   ]
  },
  {
   "cell_type": "code",
   "execution_count": 113,
   "id": "2fb17285",
   "metadata": {},
   "outputs": [
    {
     "data": {
      "text/plain": [
       "DecisionTreeClassifier()"
      ]
     },
     "execution_count": 113,
     "metadata": {},
     "output_type": "execute_result"
    }
   ],
   "source": [
    "from sklearn.tree import DecisionTreeClassifier\n",
    "classifier = DecisionTreeClassifier()\n",
    "classifier.fit(X_train_dum,y_train)"
   ]
  },
  {
   "cell_type": "code",
   "execution_count": 114,
   "id": "6f2a360d",
   "metadata": {},
   "outputs": [],
   "source": [
    "y_test_pred = classifier.predict(X_test_bow)"
   ]
  },
  {
   "cell_type": "code",
   "execution_count": null,
   "id": "4000b7f2",
   "metadata": {},
   "outputs": [],
   "source": []
  },
  {
   "cell_type": "code",
   "execution_count": 116,
   "id": "014d8a90",
   "metadata": {},
   "outputs": [
    {
     "name": "stdout",
     "output_type": "stream",
     "text": [
      "0.7354461099214846\n",
      "              precision    recall  f1-score   support\n",
      "\n",
      "           0       0.20      0.24      0.22     16441\n",
      "           1       0.85      0.83      0.84     88634\n",
      "\n",
      "    accuracy                           0.74    105075\n",
      "   macro avg       0.53      0.53      0.53    105075\n",
      "weighted avg       0.75      0.74      0.74    105075\n",
      "\n"
     ]
    }
   ],
   "source": [
    "from sklearn.metrics import accuracy_score, classification_report\n",
    "\n",
    "print(accuracy_score(y_test,y_test_pred))\n",
    "\n",
    "print(classification_report(y_test,y_test_pred))"
   ]
  },
  {
   "cell_type": "code",
   "execution_count": 117,
   "id": "ce1f857d",
   "metadata": {},
   "outputs": [
    {
     "data": {
      "text/plain": [
       "RandomForestClassifier()"
      ]
     },
     "execution_count": 117,
     "metadata": {},
     "output_type": "execute_result"
    }
   ],
   "source": [
    "from sklearn.ensemble import RandomForestClassifier\n",
    "classifier = RandomForestClassifier()\n",
    "classifier.fit(X_train_dum,y_train)"
   ]
  },
  {
   "cell_type": "code",
   "execution_count": 118,
   "id": "6608634b",
   "metadata": {},
   "outputs": [],
   "source": [
    "y_test_pred = classifier.predict(X_test_bow)"
   ]
  },
  {
   "cell_type": "code",
   "execution_count": 119,
   "id": "74027707",
   "metadata": {},
   "outputs": [
    {
     "name": "stdout",
     "output_type": "stream",
     "text": [
      "0.6979205329526529\n",
      "              precision    recall  f1-score   support\n",
      "\n",
      "           0       0.16      0.22      0.19     16441\n",
      "           1       0.85      0.79      0.81     88634\n",
      "\n",
      "    accuracy                           0.70    105075\n",
      "   macro avg       0.50      0.51      0.50    105075\n",
      "weighted avg       0.74      0.70      0.72    105075\n",
      "\n"
     ]
    }
   ],
   "source": [
    "from sklearn.metrics import accuracy_score, classification_report\n",
    "\n",
    "print(accuracy_score(y_test,y_test_pred))\n",
    "\n",
    "print(classification_report(y_test,y_test_pred))"
   ]
  },
  {
   "cell_type": "code",
   "execution_count": null,
   "id": "32642143",
   "metadata": {},
   "outputs": [],
   "source": []
  }
 ],
 "metadata": {
  "kernelspec": {
   "display_name": "Python 3 (ipykernel)",
   "language": "python",
   "name": "python3"
  },
  "language_info": {
   "codemirror_mode": {
    "name": "ipython",
    "version": 3
   },
   "file_extension": ".py",
   "mimetype": "text/x-python",
   "name": "python",
   "nbconvert_exporter": "python",
   "pygments_lexer": "ipython3",
   "version": "3.9.7"
  }
 },
 "nbformat": 4,
 "nbformat_minor": 5
}
